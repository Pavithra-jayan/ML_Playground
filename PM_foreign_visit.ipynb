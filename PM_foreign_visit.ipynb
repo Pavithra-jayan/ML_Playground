{
 "cells": [
  {
   "cell_type": "code",
   "execution_count": 54,
   "id": "1097c50b",
   "metadata": {},
   "outputs": [],
   "source": [
    "import pandas as pd\n",
    "import numpy as np\n",
    "import matplotlib.pyplot as plt\n",
    "import seaborn as sns\n",
    "import warnings\n",
    "warnings.filterwarnings(\"ignore\")"
   ]
  },
  {
   "cell_type": "code",
   "execution_count": 55,
   "id": "0abf9dfa",
   "metadata": {},
   "outputs": [],
   "source": [
    "foreign_data = pd.read_csv(\"foreign_visits.csv\")"
   ]
  },
  {
   "cell_type": "code",
   "execution_count": 56,
   "id": "7dd52feb",
   "metadata": {},
   "outputs": [
    {
     "data": {
      "text/html": [
       "<div>\n",
       "<style scoped>\n",
       "    .dataframe tbody tr th:only-of-type {\n",
       "        vertical-align: middle;\n",
       "    }\n",
       "\n",
       "    .dataframe tbody tr th {\n",
       "        vertical-align: top;\n",
       "    }\n",
       "\n",
       "    .dataframe thead th {\n",
       "        text-align: right;\n",
       "    }\n",
       "</style>\n",
       "<table border=\"1\" class=\"dataframe\">\n",
       "  <thead>\n",
       "    <tr style=\"text-align: right;\">\n",
       "      <th></th>\n",
       "      <th>place_of_visit</th>\n",
       "      <th>period_of_visit_from</th>\n",
       "      <th>period_of_visit_to</th>\n",
       "      <th>no_of_days</th>\n",
       "      <th>expenses_incurred_on_chartered_flight_rs</th>\n",
       "    </tr>\n",
       "  </thead>\n",
       "  <tbody>\n",
       "    <tr>\n",
       "      <th>0</th>\n",
       "      <td>Bhutan</td>\n",
       "      <td>15-06-2014</td>\n",
       "      <td>16-06-2014</td>\n",
       "      <td>1.0</td>\n",
       "      <td>24527465</td>\n",
       "    </tr>\n",
       "    <tr>\n",
       "      <th>1</th>\n",
       "      <td>Brazil</td>\n",
       "      <td>13-07-2014</td>\n",
       "      <td>17-07-2014</td>\n",
       "      <td>4.0</td>\n",
       "      <td>203548000</td>\n",
       "    </tr>\n",
       "    <tr>\n",
       "      <th>2</th>\n",
       "      <td>Nepal</td>\n",
       "      <td>03-08-2014</td>\n",
       "      <td>05-08-2014</td>\n",
       "      <td>2.0</td>\n",
       "      <td>IAF BBJ Aircraft</td>\n",
       "    </tr>\n",
       "    <tr>\n",
       "      <th>3</th>\n",
       "      <td>Japan</td>\n",
       "      <td>30-08-2014</td>\n",
       "      <td>03-09-2014</td>\n",
       "      <td>4.0</td>\n",
       "      <td>134758000</td>\n",
       "    </tr>\n",
       "    <tr>\n",
       "      <th>4</th>\n",
       "      <td>USA</td>\n",
       "      <td>25-09-2014</td>\n",
       "      <td>01-10-2014</td>\n",
       "      <td>6.0</td>\n",
       "      <td>190460000</td>\n",
       "    </tr>\n",
       "  </tbody>\n",
       "</table>\n",
       "</div>"
      ],
      "text/plain": [
       "  place_of_visit period_of_visit_from period_of_visit_to  no_of_days  \\\n",
       "0         Bhutan           15-06-2014         16-06-2014         1.0   \n",
       "1         Brazil           13-07-2014         17-07-2014         4.0   \n",
       "2          Nepal           03-08-2014         05-08-2014         2.0   \n",
       "3          Japan           30-08-2014         03-09-2014         4.0   \n",
       "4            USA           25-09-2014         01-10-2014         6.0   \n",
       "\n",
       "  expenses_incurred_on_chartered_flight_rs  \n",
       "0                                 24527465  \n",
       "1                                203548000  \n",
       "2                         IAF BBJ Aircraft  \n",
       "3                                134758000  \n",
       "4                                190460000  "
      ]
     },
     "execution_count": 56,
     "metadata": {},
     "output_type": "execute_result"
    }
   ],
   "source": [
    "foreign_data.head()"
   ]
  },
  {
   "cell_type": "code",
   "execution_count": 57,
   "id": "356c06b5",
   "metadata": {},
   "outputs": [
    {
     "data": {
      "text/html": [
       "<div>\n",
       "<style scoped>\n",
       "    .dataframe tbody tr th:only-of-type {\n",
       "        vertical-align: middle;\n",
       "    }\n",
       "\n",
       "    .dataframe tbody tr th {\n",
       "        vertical-align: top;\n",
       "    }\n",
       "\n",
       "    .dataframe thead th {\n",
       "        text-align: right;\n",
       "    }\n",
       "</style>\n",
       "<table border=\"1\" class=\"dataframe\">\n",
       "  <thead>\n",
       "    <tr style=\"text-align: right;\">\n",
       "      <th></th>\n",
       "      <th>place_of_visit</th>\n",
       "      <th>period_of_visit_from</th>\n",
       "      <th>period_of_visit_to</th>\n",
       "      <th>no_of_days</th>\n",
       "      <th>expenses_incurred_on_chartered_flight_rs</th>\n",
       "    </tr>\n",
       "  </thead>\n",
       "  <tbody>\n",
       "    <tr>\n",
       "      <th>101</th>\n",
       "      <td>Thailand</td>\n",
       "      <td>02-11-2019</td>\n",
       "      <td>04-11-2019</td>\n",
       "      <td>3.0</td>\n",
       "      <td>6,68,34,000</td>\n",
       "    </tr>\n",
       "    <tr>\n",
       "      <th>102</th>\n",
       "      <td>Brazil</td>\n",
       "      <td>13-11-2021</td>\n",
       "      <td>15-11-2019</td>\n",
       "      <td>3.0</td>\n",
       "      <td>20,01,61,000</td>\n",
       "    </tr>\n",
       "    <tr>\n",
       "      <th>103</th>\n",
       "      <td>Bangladesh</td>\n",
       "      <td>26-03-2021</td>\n",
       "      <td>27-03-2021</td>\n",
       "      <td>2.0</td>\n",
       "      <td>NaN</td>\n",
       "    </tr>\n",
       "    <tr>\n",
       "      <th>104</th>\n",
       "      <td>USA</td>\n",
       "      <td>22-09-2021</td>\n",
       "      <td>26-09-2021</td>\n",
       "      <td>5.0</td>\n",
       "      <td>NaN</td>\n",
       "    </tr>\n",
       "    <tr>\n",
       "      <th>105</th>\n",
       "      <td>Italy and UK</td>\n",
       "      <td>29-10-2021</td>\n",
       "      <td>02-11-2021</td>\n",
       "      <td>5.0</td>\n",
       "      <td>NaN</td>\n",
       "    </tr>\n",
       "  </tbody>\n",
       "</table>\n",
       "</div>"
      ],
      "text/plain": [
       "    place_of_visit period_of_visit_from period_of_visit_to  no_of_days  \\\n",
       "101       Thailand           02-11-2019         04-11-2019         3.0   \n",
       "102         Brazil           13-11-2021         15-11-2019         3.0   \n",
       "103     Bangladesh           26-03-2021         27-03-2021         2.0   \n",
       "104            USA           22-09-2021         26-09-2021         5.0   \n",
       "105   Italy and UK           29-10-2021         02-11-2021         5.0   \n",
       "\n",
       "    expenses_incurred_on_chartered_flight_rs  \n",
       "101                              6,68,34,000  \n",
       "102                             20,01,61,000  \n",
       "103                                      NaN  \n",
       "104                                      NaN  \n",
       "105                                      NaN  "
      ]
     },
     "execution_count": 57,
     "metadata": {},
     "output_type": "execute_result"
    }
   ],
   "source": [
    "foreign_data.tail()"
   ]
  },
  {
   "cell_type": "code",
   "execution_count": 58,
   "id": "c7ee965f",
   "metadata": {},
   "outputs": [
    {
     "data": {
      "text/plain": [
       "(106, 5)"
      ]
     },
     "execution_count": 58,
     "metadata": {},
     "output_type": "execute_result"
    }
   ],
   "source": [
    "foreign_data.shape"
   ]
  },
  {
   "cell_type": "code",
   "execution_count": 59,
   "id": "ec75e46d",
   "metadata": {},
   "outputs": [
    {
     "name": "stdout",
     "output_type": "stream",
     "text": [
      "<class 'pandas.core.frame.DataFrame'>\n",
      "RangeIndex: 106 entries, 0 to 105\n",
      "Data columns (total 5 columns):\n",
      " #   Column                                    Non-Null Count  Dtype  \n",
      "---  ------                                    --------------  -----  \n",
      " 0   place_of_visit                            106 non-null    object \n",
      " 1   period_of_visit_from                      106 non-null    object \n",
      " 2   period_of_visit_to                        106 non-null    object \n",
      " 3   no_of_days                                106 non-null    float64\n",
      " 4   expenses_incurred_on_chartered_flight_rs  103 non-null    object \n",
      "dtypes: float64(1), object(4)\n",
      "memory usage: 4.3+ KB\n"
     ]
    }
   ],
   "source": [
    "foreign_data.info()"
   ]
  },
  {
   "cell_type": "code",
   "execution_count": 60,
   "id": "3273fab5",
   "metadata": {},
   "outputs": [
    {
     "data": {
      "text/html": [
       "<div>\n",
       "<style scoped>\n",
       "    .dataframe tbody tr th:only-of-type {\n",
       "        vertical-align: middle;\n",
       "    }\n",
       "\n",
       "    .dataframe tbody tr th {\n",
       "        vertical-align: top;\n",
       "    }\n",
       "\n",
       "    .dataframe thead th {\n",
       "        text-align: right;\n",
       "    }\n",
       "</style>\n",
       "<table border=\"1\" class=\"dataframe\">\n",
       "  <thead>\n",
       "    <tr style=\"text-align: right;\">\n",
       "      <th></th>\n",
       "      <th>no_of_days</th>\n",
       "    </tr>\n",
       "  </thead>\n",
       "  <tbody>\n",
       "    <tr>\n",
       "      <th>count</th>\n",
       "      <td>106.000000</td>\n",
       "    </tr>\n",
       "    <tr>\n",
       "      <th>mean</th>\n",
       "      <td>1.858491</td>\n",
       "    </tr>\n",
       "    <tr>\n",
       "      <th>std</th>\n",
       "      <td>1.337650</td>\n",
       "    </tr>\n",
       "    <tr>\n",
       "      <th>min</th>\n",
       "      <td>0.000000</td>\n",
       "    </tr>\n",
       "    <tr>\n",
       "      <th>25%</th>\n",
       "      <td>1.000000</td>\n",
       "    </tr>\n",
       "    <tr>\n",
       "      <th>50%</th>\n",
       "      <td>1.750000</td>\n",
       "    </tr>\n",
       "    <tr>\n",
       "      <th>75%</th>\n",
       "      <td>2.000000</td>\n",
       "    </tr>\n",
       "    <tr>\n",
       "      <th>max</th>\n",
       "      <td>8.000000</td>\n",
       "    </tr>\n",
       "  </tbody>\n",
       "</table>\n",
       "</div>"
      ],
      "text/plain": [
       "       no_of_days\n",
       "count  106.000000\n",
       "mean     1.858491\n",
       "std      1.337650\n",
       "min      0.000000\n",
       "25%      1.000000\n",
       "50%      1.750000\n",
       "75%      2.000000\n",
       "max      8.000000"
      ]
     },
     "execution_count": 60,
     "metadata": {},
     "output_type": "execute_result"
    }
   ],
   "source": [
    "foreign_data.describe()"
   ]
  },
  {
   "cell_type": "code",
   "execution_count": 61,
   "id": "b702776c",
   "metadata": {},
   "outputs": [
    {
     "data": {
      "text/plain": [
       "place_of_visit                              0\n",
       "period_of_visit_from                        0\n",
       "period_of_visit_to                          0\n",
       "no_of_days                                  0\n",
       "expenses_incurred_on_chartered_flight_rs    3\n",
       "dtype: int64"
      ]
     },
     "execution_count": 61,
     "metadata": {},
     "output_type": "execute_result"
    }
   ],
   "source": [
    "foreign_data.isnull().sum()"
   ]
  },
  {
   "cell_type": "code",
   "execution_count": 62,
   "id": "2c5905da",
   "metadata": {},
   "outputs": [
    {
     "data": {
      "text/plain": [
       "Index(['place_of_visit', 'period_of_visit_from', 'period_of_visit_to',\n",
       "       'no_of_days', 'expenses_incurred_on_chartered_flight_rs'],\n",
       "      dtype='object')"
      ]
     },
     "execution_count": 62,
     "metadata": {},
     "output_type": "execute_result"
    }
   ],
   "source": [
    "foreign_data.columns"
   ]
  },
  {
   "cell_type": "code",
   "execution_count": 63,
   "id": "54f3f317",
   "metadata": {},
   "outputs": [
    {
     "data": {
      "text/plain": [
       "array(['Bhutan', 'Brazil', 'Nepal', 'Japan', 'USA', 'Myanmar',\n",
       "       'Australia', 'Fiji', 'Seychelles', 'Mauritius', 'Sri Lanka',\n",
       "       'Singapore', 'France', 'Germany', 'Canada', 'China ', 'Mongolia',\n",
       "       'South Korea', 'Bangladesh', 'Uzbekistan', 'Kazakhstan', 'Russia',\n",
       "       'Turkmenistan', 'Kyrgyzstan', 'Tajikistan', 'United Arab Emirates',\n",
       "       'Ireland', 'UK', 'Turkey', 'Malaysia', 'Afghanistan', 'Pakistan',\n",
       "       'Belgium', 'Saudi Arabia', 'Iran', 'Qatar', 'Switzerland',\n",
       "       'Mexico', 'Mozambique', 'South Africa', 'Tanzania', 'Kenya',\n",
       "       'Vietnam', 'China', 'Laos', 'Germany ', 'Spain', 'Portugal',\n",
       "       'Netherlands', 'Israel', 'Philippines', 'Jordan', 'Palestine',\n",
       "       'UAE', 'Oman', 'Sweden', 'Indonesia', 'Rwanda', 'Uganda',\n",
       "       'Maldives', 'Argentina', 'Maldives & Sri Lanka',\n",
       "       'France, UAE and Bahrian', 'Thailand', 'Italy and UK'],\n",
       "      dtype=object)"
      ]
     },
     "execution_count": 63,
     "metadata": {},
     "output_type": "execute_result"
    }
   ],
   "source": [
    "foreign_data.place_of_visit.unique()"
   ]
  },
  {
   "cell_type": "code",
   "execution_count": 64,
   "id": "3f5859d4",
   "metadata": {},
   "outputs": [
    {
     "data": {
      "text/plain": [
       "USA             7\n",
       "Russia          5\n",
       "Singapore       4\n",
       "Nepal           4\n",
       "Japan           4\n",
       "               ..\n",
       "Qatar           1\n",
       "Mexico          1\n",
       "Mozambique      1\n",
       "Tanzania        1\n",
       "Italy and UK    1\n",
       "Name: place_of_visit, Length: 65, dtype: int64"
      ]
     },
     "execution_count": 64,
     "metadata": {},
     "output_type": "execute_result"
    }
   ],
   "source": [
    "foreign_data.place_of_visit.value_counts()"
   ]
  },
  {
   "cell_type": "code",
   "execution_count": 65,
   "id": "19001843",
   "metadata": {},
   "outputs": [
    {
     "data": {
      "image/png": "[encoded data removed]",
      "text/plain": [
       "<Figure size 1080x432 with 1 Axes>"
      ]
     },
     "metadata": {
      "needs_background": "light"
     },
     "output_type": "display_data"
    }
   ],
   "source": [
    "plt.figure(figsize=(15,6))\n",
    "sns.countplot('place_of_visit', data = foreign_data, palette='hls')\n",
    "plt.xticks(rotation = 90)\n",
    "plt.show()"
   ]
  },
  {
   "cell_type": "code",
   "execution_count": 66,
   "id": "ea281eb4",
   "metadata": {},
   "outputs": [
    {
     "data": {
      "text/plain": [
       "array([1. , 4. , 2. , 6. , 3. , 5. , 0.5, 1.5, 0. , 8. ])"
      ]
     },
     "execution_count": 66,
     "metadata": {},
     "output_type": "execute_result"
    }
   ],
   "source": [
    "foreign_data.no_of_days.unique()"
   ]
  },
  {
   "cell_type": "code",
   "execution_count": 67,
   "id": "8c3bac3d",
   "metadata": {},
   "outputs": [
    {
     "data": {
      "text/plain": [
       "1.0    44\n",
       "2.0    33\n",
       "3.0    10\n",
       "0.5     7\n",
       "5.0     4\n",
       "4.0     3\n",
       "6.0     2\n",
       "1.5     1\n",
       "0.0     1\n",
       "8.0     1\n",
       "Name: no_of_days, dtype: int64"
      ]
     },
     "execution_count": 67,
     "metadata": {},
     "output_type": "execute_result"
    }
   ],
   "source": [
    "foreign_data.no_of_days.value_counts()"
   ]
  },
  {
   "cell_type": "code",
   "execution_count": 68,
   "id": "28083165",
   "metadata": {},
   "outputs": [
    {
     "data": {
      "image/png": "[encoded data removed]",
      "text/plain": [
       "<Figure size 1080x432 with 1 Axes>"
      ]
     },
     "metadata": {
      "needs_background": "light"
     },
     "output_type": "display_data"
    }
   ],
   "source": [
    "plt.figure(figsize=(15,6))\n",
    "sns.countplot('no_of_days', data = foreign_data, palette='hls')\n",
    "plt.xticks(rotation = 90)\n",
    "plt.show()"
   ]
  },
  {
   "cell_type": "code",
   "execution_count": 69,
   "id": "bcb164bf",
   "metadata": {},
   "outputs": [
    {
     "name": "stdout",
     "output_type": "stream",
     "text": [
      "The number of days Prime Minister Modi spent in foreign visits: 197.0\n"
     ]
    }
   ],
   "source": [
    "print('The number of days Prime Minister Modi spent in foreign visits:', foreign_data.no_of_days.sum())"
   ]
  },
  {
   "cell_type": "code",
   "execution_count": 70,
   "id": "ad08d29f",
   "metadata": {},
   "outputs": [],
   "source": [
    "data1=foreign_data[foreign_data.expenses_incurred_on_chartered_flight_rs.notnull()]"
   ]
  },
  {
   "cell_type": "code",
   "execution_count": 71,
   "id": "68af6fa7",
   "metadata": {},
   "outputs": [],
   "source": [
    "data2 = data1[data1.expenses_incurred_on_chartered_flight_rs != 'IAF BBJ Aircraft']"
   ]
  },
  {
   "cell_type": "code",
   "execution_count": 75,
   "id": "34c43c56",
   "metadata": {},
   "outputs": [
    {
     "data": {
      "text/html": [
       "<div>\n",
       "<style scoped>\n",
       "    .dataframe tbody tr th:only-of-type {\n",
       "        vertical-align: middle;\n",
       "    }\n",
       "\n",
       "    .dataframe tbody tr th {\n",
       "        vertical-align: top;\n",
       "    }\n",
       "\n",
       "    .dataframe thead th {\n",
       "        text-align: right;\n",
       "    }\n",
       "</style>\n",
       "<table border=\"1\" class=\"dataframe\">\n",
       "  <thead>\n",
       "    <tr style=\"text-align: right;\">\n",
       "      <th></th>\n",
       "      <th>place_of_visit</th>\n",
       "      <th>period_of_visit_from</th>\n",
       "      <th>period_of_visit_to</th>\n",
       "      <th>no_of_days</th>\n",
       "      <th>expenses_incurred_on_chartered_flight_rs</th>\n",
       "    </tr>\n",
       "  </thead>\n",
       "  <tbody>\n",
       "    <tr>\n",
       "      <th>0</th>\n",
       "      <td>Bhutan</td>\n",
       "      <td>15-06-2014</td>\n",
       "      <td>16-06-2014</td>\n",
       "      <td>1.0</td>\n",
       "      <td>24527465</td>\n",
       "    </tr>\n",
       "    <tr>\n",
       "      <th>1</th>\n",
       "      <td>Brazil</td>\n",
       "      <td>13-07-2014</td>\n",
       "      <td>17-07-2014</td>\n",
       "      <td>4.0</td>\n",
       "      <td>203548000</td>\n",
       "    </tr>\n",
       "    <tr>\n",
       "      <th>3</th>\n",
       "      <td>Japan</td>\n",
       "      <td>30-08-2014</td>\n",
       "      <td>03-09-2014</td>\n",
       "      <td>4.0</td>\n",
       "      <td>134758000</td>\n",
       "    </tr>\n",
       "    <tr>\n",
       "      <th>4</th>\n",
       "      <td>USA</td>\n",
       "      <td>25-09-2014</td>\n",
       "      <td>01-10-2014</td>\n",
       "      <td>6.0</td>\n",
       "      <td>190460000</td>\n",
       "    </tr>\n",
       "    <tr>\n",
       "      <th>5</th>\n",
       "      <td>Myanmar</td>\n",
       "      <td>11-11-2014</td>\n",
       "      <td>13-11-2014</td>\n",
       "      <td>2.0</td>\n",
       "      <td>75288333</td>\n",
       "    </tr>\n",
       "    <tr>\n",
       "      <th>...</th>\n",
       "      <td>...</td>\n",
       "      <td>...</td>\n",
       "      <td>...</td>\n",
       "      <td>...</td>\n",
       "      <td>...</td>\n",
       "    </tr>\n",
       "    <tr>\n",
       "      <th>98</th>\n",
       "      <td>Russia</td>\n",
       "      <td>04-09-2019</td>\n",
       "      <td>05-09-2019</td>\n",
       "      <td>2.0</td>\n",
       "      <td>12,02,80,000</td>\n",
       "    </tr>\n",
       "    <tr>\n",
       "      <th>99</th>\n",
       "      <td>USA</td>\n",
       "      <td>21-09-2019</td>\n",
       "      <td>28-09-2019</td>\n",
       "      <td>8.0</td>\n",
       "      <td>23,27,09,000</td>\n",
       "    </tr>\n",
       "    <tr>\n",
       "      <th>100</th>\n",
       "      <td>Saudi Arabia</td>\n",
       "      <td>28-10-2019</td>\n",
       "      <td>29-10-2019</td>\n",
       "      <td>2.0</td>\n",
       "      <td>5,03,03,000</td>\n",
       "    </tr>\n",
       "    <tr>\n",
       "      <th>101</th>\n",
       "      <td>Thailand</td>\n",
       "      <td>02-11-2019</td>\n",
       "      <td>04-11-2019</td>\n",
       "      <td>3.0</td>\n",
       "      <td>6,68,34,000</td>\n",
       "    </tr>\n",
       "    <tr>\n",
       "      <th>102</th>\n",
       "      <td>Brazil</td>\n",
       "      <td>13-11-2021</td>\n",
       "      <td>15-11-2019</td>\n",
       "      <td>3.0</td>\n",
       "      <td>20,01,61,000</td>\n",
       "    </tr>\n",
       "  </tbody>\n",
       "</table>\n",
       "<p>95 rows × 5 columns</p>\n",
       "</div>"
      ],
      "text/plain": [
       "    place_of_visit period_of_visit_from period_of_visit_to  no_of_days  \\\n",
       "0           Bhutan           15-06-2014         16-06-2014         1.0   \n",
       "1           Brazil           13-07-2014         17-07-2014         4.0   \n",
       "3            Japan           30-08-2014         03-09-2014         4.0   \n",
       "4              USA           25-09-2014         01-10-2014         6.0   \n",
       "5          Myanmar           11-11-2014         13-11-2014         2.0   \n",
       "..             ...                  ...                ...         ...   \n",
       "98          Russia           04-09-2019         05-09-2019         2.0   \n",
       "99             USA           21-09-2019         28-09-2019         8.0   \n",
       "100   Saudi Arabia           28-10-2019         29-10-2019         2.0   \n",
       "101       Thailand           02-11-2019         04-11-2019         3.0   \n",
       "102         Brazil           13-11-2021         15-11-2019         3.0   \n",
       "\n",
       "    expenses_incurred_on_chartered_flight_rs  \n",
       "0                                   24527465  \n",
       "1                                  203548000  \n",
       "3                                  134758000  \n",
       "4                                  190460000  \n",
       "5                                   75288333  \n",
       "..                                       ...  \n",
       "98                              12,02,80,000  \n",
       "99                              23,27,09,000  \n",
       "100                              5,03,03,000  \n",
       "101                              6,68,34,000  \n",
       "102                             20,01,61,000  \n",
       "\n",
       "[95 rows x 5 columns]"
      ]
     },
     "execution_count": 75,
     "metadata": {},
     "output_type": "execute_result"
    }
   ],
   "source": [
    "data2"
   ]
  },
  {
   "cell_type": "code",
   "execution_count": 78,
   "id": "3531d34a",
   "metadata": {},
   "outputs": [],
   "source": [
    "data2['expenses_incurred_on_chartered_flight_rs'] = data2['expenses_incurred_on_chartered_flight_rs'].apply(lambda x: float(x.split()[0].replace(',', '')))"
   ]
  },
  {
   "cell_type": "code",
   "execution_count": 79,
   "id": "233780e3",
   "metadata": {},
   "outputs": [
    {
     "name": "stdout",
     "output_type": "stream",
     "text": [
      "Total expenses incurred on Prime Minister foreign visits: 5783009175.01\n"
     ]
    }
   ],
   "source": [
    "print('Total expenses incurred on Prime Minister foreign visits:',data2['expenses_incurred_on_chartered_flight_rs'].sum())"
   ]
  }
 ],
 "metadata": {
  "kernelspec": {
   "display_name": "Python 3 (ipykernel)",
   "language": "python",
   "name": "python3"
  },
  "language_info": {
   "codemirror_mode": {
    "name": "ipython",
    "version": 3
   },
   "file_extension": ".py",
   "mimetype": "text/x-python",
   "name": "python",
   "nbconvert_exporter": "python",
   "pygments_lexer": "ipython3",
   "version": "3.8.12"
  }
 },
 "nbformat": 4,
 "nbformat_minor": 5
}
